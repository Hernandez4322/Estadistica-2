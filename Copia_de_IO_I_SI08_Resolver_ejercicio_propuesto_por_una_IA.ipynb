{
  "nbformat": 4,
  "nbformat_minor": 0,
  "metadata": {
    "colab": {
      "provenance": [],
      "toc_visible": true,
      "include_colab_link": true
    },
    "kernelspec": {
      "name": "python3",
      "display_name": "Python 3"
    },
    "language_info": {
      "name": "python"
    }
  },
  "cells": [
    {
      "cell_type": "markdown",
      "metadata": {
        "id": "view-in-github",
        "colab_type": "text"
      },
      "source": [
        "<a href=\"https://colab.research.google.com/github/Hernandez4322/Estadistica-2/blob/2023-02S/Copia_de_IO_I_SI08_Resolver_ejercicio_propuesto_por_una_IA.ipynb\" target=\"_parent\"><img src=\"https://colab.research.google.com/assets/colab-badge.svg\" alt=\"Open In Colab\"/></a>"
      ]
    },
    {
      "cell_type": "markdown",
      "source": [
        "# Resolver ejercicio propuesto por una IA\n",
        "\n",
        "Diligencia las casillas indicadas.\n",
        "\n",
        "**No modifique la estructura del archivo.**\n",
        "\n",
        "Plantee y resuelva el problema utilizando [CVXPY](https://www.cvxpy.org/).\n",
        "\n",
        "El código debe ser legible e incluir comentarios. Se recomienda utilizar la guía [PEP 8 – Style Guide for Python Code](https://peps.python.org/pep-0008/)."
      ],
      "metadata": {
        "id": "4phUlG02bseh"
      }
    },
    {
      "cell_type": "markdown",
      "source": [
        "# Consulta a ChatGPT\n",
        "Coloque en la siguiente celda el enlace a la consulta a ChatGPT"
      ],
      "metadata": {
        "id": "kVN1oiTVbr4c"
      }
    },
    {
      "cell_type": "markdown",
      "source": [
        "[Ruta más corta, Esteban Hernández\n",
        "](https://chat.openai.com/share/bea4e038-5bc2-4f6a-b5a6-0ff7e0ef45c9\n",
        ")"
      ],
      "metadata": {
        "id": "QIViZXBnbrTT"
      }
    },
    {
      "cell_type": "markdown",
      "source": [
        "# Solución al ejercicio\n",
        "\n",
        "En la siguiente celda escriba el código que resuelva el ejercicio"
      ],
      "metadata": {
        "id": "tX0UmyGAcSKV"
      }
    },
    {
      "cell_type": "code",
      "source": [
        "import cvxpy as cvx\n",
        "\n",
        "# Definir las variables de decisión (binarias)\n",
        "x = cvx.Variable((4, 4), boolean=True)\n",
        "\n",
        "# Función objetivo: minimizar la distancia total recorrida\n",
        "matriz_distancia = cvx.Constant([[0, 10, 15, 12], [10, 0, 8, 18], [15, 8, 0, 5], [12, 18, 5, 0]])\n",
        "total_distancia = cvx.sum(cvx.multiply(matriz_distancia, x))\n",
        "objectivo = cvx.Minimize(total_distancia)\n",
        "\n",
        "# Restricciones\n",
        "constraints = []\n",
        "\n",
        "# Cada cliente debe ser visitado exactamente una vez\n",
        "constraints.append(cvx.sum(x[1, :]) == 1)  # Cliente 1\n",
        "constraints.append(cvx.sum(x[2, :]) == 1)  # Cliente 2\n",
        "constraints.append(cvx.sum(x[3, :]) == 1)  # Cliente 3\n",
        "\n",
        "# El vehículo debe salir del almacén central y regresar después de todas las entregas\n",
        "constraints.append(cvx.sum(x[0, :]) == 1)\n",
        "constraints.append(cvx.sum(x[:, 0]) == 1)\n",
        "\n",
        "# No se pueden visitar las mismas ubicaciones más de una vez\n",
        "for i in range(4):\n",
        "    for j in range(4):\n",
        "        constraints.append(x[i, j] + x[j, i] <= 1)\n",
        "\n",
        "# Las variables diagonales deben ser 0 (no es posible ir de una ubicación a sí misma)\n",
        "for i in range(4):\n",
        "    constraints.append(x[i, i] == 0)\n",
        "\n",
        "# Crear el problema de optimización\n",
        "problema = cvx.Problem(objectivo, constraints)\n",
        "\n",
        "# Resolver el problema\n",
        "problema.solve()\n",
        "\n",
        "# Imprimir la solución\n",
        "print(\"Distancia mínima recorrida:\", problema.value)\n",
        "print(\"Rutas:\")\n",
        "for i in range(4):\n",
        "    for j in range(4):\n",
        "        if x[i, j].value == 1:\n",
        "            print(f\"Desde {['Almacén', 'Cliente 1', 'Cliente 2', 'Cliente 3'][i]} hasta {['Almacén', 'Cliente 1', 'Cliente 2', 'Cliente 3'][j]}\")"
      ],
      "metadata": {
        "colab": {
          "base_uri": "https://localhost:8080/"
        },
        "id": "dpcq-PI5j8JL",
        "outputId": "18bdd3fd-5430-47a9-e741-468fcf121c12"
      },
      "execution_count": 85,
      "outputs": [
        {
          "output_type": "stream",
          "name": "stdout",
          "text": [
            "Distancia mínima recorrida: 35.0\n",
            "Rutas:\n",
            "Desde Almacén hasta Cliente 1\n",
            "Desde Cliente 1 hasta Cliente 2\n",
            "Desde Cliente 2 hasta Cliente 3\n",
            "Desde Cliente 3 hasta Almacén\n"
          ]
        }
      ]
    }
  ]
}